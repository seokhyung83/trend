{
 "cells": [
  {
   "cell_type": "code",
   "execution_count": 2,
   "id": "c99f8f3f",
   "metadata": {},
   "outputs": [],
   "source": [
    "import sqlite3\n",
    "import pandas as pd\n",
    "import pymysql\n",
    "import re\n",
    "from kss import kss\n",
    "from konlpy.tag import Mecab\n",
    "import pickle\n",
    "import collections\n",
    "import numpy as np\n",
    "import openpyxl"
   ]
  },
  {
   "cell_type": "code",
   "execution_count": 2,
   "id": "cf50056c",
   "metadata": {},
   "outputs": [],
   "source": [
    "with open('LGES_sent_210804.dta', 'rb') as a_sent:\n",
    "    train_sent = pickle.load(a_sent)\n",
    "with open('LGES_sent_ner_level1_210804.dta', 'rb') as a_sent_l1:\n",
    "    train_ner_l1 = pickle.load(a_sent_l1)\n",
    "with open('LGES_label_l1_210804.dta', 'rb') as a_label1:\n",
    "    train_label_l1 = pickle.load(a_label1)"
   ]
  },
  {
   "cell_type": "code",
   "execution_count": 3,
   "id": "e2197679",
   "metadata": {},
   "outputs": [],
   "source": [
    "train_total_ner = (' '.join(train_ner_l1)).split()\n",
    "ner_cnt=collections.Counter(train_total_ner)"
   ]
  },
  {
   "cell_type": "code",
   "execution_count": 4,
   "id": "db9c063b",
   "metadata": {},
   "outputs": [
    {
     "name": "stdout",
     "output_type": "stream",
     "text": [
      "총 605785 개 문장\n",
      "총 10002817 개 NER\n",
      "Counter({'O': 9856950, '제품': 82720, '소재': 20352, '기술': 11829, '트렌드': 10939, '서비스': 8236, '이벤트': 8021, '사건/사고': 2005, '스펙': 1765})\n"
     ]
    }
   ],
   "source": [
    "print('총 %d 개 문장'%len(train_ner_l1))\n",
    "print('총 %d 개 NER'%len(train_total_ner))\n",
    "print(ner_cnt)"
   ]
  },
  {
   "cell_type": "code",
   "execution_count": 5,
   "id": "ed6c97b9",
   "metadata": {},
   "outputs": [],
   "source": [
    "o_ratio = []\n",
    "for k in range(0, len(train_ner_l1)):\n",
    "    #print(k)\n",
    "    sent_total_cnt = len(train_ner_l1[k].split(' '))\n",
    "    sent_o_cnt = np.sum([1 if x =='O' else 0 for x in train_ner_l1[k].split(' ') ])\n",
    "    o_ratio.append( sent_o_cnt  / sent_total_cnt)\n",
    "select_sent_id = [i for i,z in enumerate(o_ratio) if z < 1]"
   ]
  },
  {
   "cell_type": "code",
   "execution_count": 6,
   "id": "822fa868",
   "metadata": {},
   "outputs": [
    {
     "name": "stdout",
     "output_type": "stream",
     "text": [
      "총 112001 개 문장\n",
      "총 2573537 개 NER\n",
      "Counter({'O': 2427670, '제품': 82720, '소재': 20352, '기술': 11829, '트렌드': 10939, '서비스': 8236, '이벤트': 8021, '사건/사고': 2005, '스펙': 1765})\n"
     ]
    }
   ],
   "source": [
    "filtet_train_ner_l1 = [train_ner_l1[i] for i,z in enumerate(o_ratio) if z < 1]#train_ner_l1[select_sent_id]\n",
    "filtet_train_total_ner = (' '.join(filtet_train_ner_l1)).split()\n",
    "filtet_ner_cnt=collections.Counter(filtet_train_total_ner)\n",
    "print('총 %d 개 문장'%len(filtet_train_ner_l1))\n",
    "print('총 %d 개 NER'%len(filtet_train_total_ner))\n",
    "print(filtet_ner_cnt)"
   ]
  },
  {
   "cell_type": "code",
   "execution_count": 25,
   "id": "2e7b2ee8",
   "metadata": {},
   "outputs": [
    {
     "data": {
      "text/plain": [
       "'O O O O O O O O O O O O O O O O O O O O'"
      ]
     },
     "execution_count": 25,
     "metadata": {},
     "output_type": "execute_result"
    }
   ],
   "source": [
    "train_ner_l1[70]"
   ]
  },
  {
   "cell_type": "code",
   "execution_count": 19,
   "id": "66fe5d9e",
   "metadata": {},
   "outputs": [
    {
     "data": {
      "text/plain": [
       "605785"
      ]
     },
     "execution_count": 19,
     "metadata": {},
     "output_type": "execute_result"
    }
   ],
   "source": [
    "len(o_ratio)"
   ]
  },
  {
   "cell_type": "code",
   "execution_count": 3,
   "id": "957d16be",
   "metadata": {},
   "outputs": [],
   "source": [
    "tmp_train = openpyxl.load_workbook('train_ensol.xlsx')\n",
    "tmp_test = openpyxl.load_workbook('test_ensol.xlsx')\n",
    "train = pd.DataFrame(tmp_train['Sheet1'].values).copy()\n",
    "test  = pd.DataFrame(tmp_test['Sheet1'].values).copy()"
   ]
  },
  {
   "cell_type": "code",
   "execution_count": 4,
   "id": "95343381",
   "metadata": {},
   "outputs": [],
   "source": [
    "train.columns = train.iloc[0,:]\n",
    "test.columns =test.iloc[0,:]\n",
    "train = train.iloc[1:,:]\n",
    "test  = test.iloc[1:,:]"
   ]
  },
  {
   "cell_type": "code",
   "execution_count": 6,
   "id": "d1a929b7",
   "metadata": {},
   "outputs": [
    {
     "name": "stdout",
     "output_type": "stream",
     "text": [
      "총 138562 문장\n",
      "총 4420888 개 NER\n",
      "Counter({'O': 3650799, 'CO-B': 254944, 'EVT-B': 189943, 'PRD-B': 94390, 'TE-B': 37865, 'SOC-B': 34530, 'BAT-B': 33717, 'AIC-B': 27296, 'LOC-B': 26124, 'MAT-B': 23793, 'SVC-B': 18990, 'ISS-B': 14246, 'ORG-B': 7240, 'POL-B': 7011})\n"
     ]
    }
   ],
   "source": [
    "train_total_ner = (' '.join(train['label'].tolist())).split()\n",
    "ner_cnt=collections.Counter(train_total_ner)\n",
    "print('총 %d 문장'%(train.shape[0]))\n",
    "print('총 %d 개 NER'%len(train_total_ner))\n",
    "print(ner_cnt)"
   ]
  },
  {
   "cell_type": "code",
   "execution_count": 7,
   "id": "b419965e",
   "metadata": {},
   "outputs": [],
   "source": [
    "lgsp = pd.concat((train, test))"
   ]
  },
  {
   "cell_type": "code",
   "execution_count": 8,
   "id": "25bf790a",
   "metadata": {},
   "outputs": [
    {
     "name": "stdout",
     "output_type": "stream",
     "text": [
      "총 184750 문장\n",
      "총 5891851 개 NER\n",
      "Counter({'O': 4865245, 'CO-B': 340059, 'EVT-B': 253341, 'PRD-B': 125662, 'TE-B': 50453, 'SOC-B': 46139, 'BAT-B': 45044, 'AIC-B': 36424, 'LOC-B': 34780, 'MAT-B': 31818, 'SVC-B': 25192, 'ISS-B': 18826, 'ORG-B': 9556, 'POL-B': 9312})\n"
     ]
    }
   ],
   "source": [
    "train_total_ner = (' '.join(lgsp['label'].tolist())).split()\n",
    "ner_cnt=collections.Counter(train_total_ner)\n",
    "print('총 %d 문장'%(lgsp.shape[0]))\n",
    "print('총 %d 개 NER'%len(train_total_ner))\n",
    "print(ner_cnt)"
   ]
  },
  {
   "cell_type": "code",
   "execution_count": 1,
   "id": "07f08586",
   "metadata": {},
   "outputs": [
    {
     "ename": "NameError",
     "evalue": "name 'lgsp' is not defined",
     "output_type": "error",
     "traceback": [
      "\u001b[0;31m---------------------------------------------------------------------------\u001b[0m",
      "\u001b[0;31mNameError\u001b[0m                                 Traceback (most recent call last)",
      "\u001b[0;32m<ipython-input-1-156641af18f5>\u001b[0m in \u001b[0;36m<module>\u001b[0;34m\u001b[0m\n\u001b[0;32m----> 1\u001b[0;31m \u001b[0mlgsp\u001b[0m\u001b[0;34m.\u001b[0m\u001b[0mshape\u001b[0m\u001b[0;34m\u001b[0m\u001b[0;34m\u001b[0m\u001b[0m\n\u001b[0m",
      "\u001b[0;31mNameError\u001b[0m: name 'lgsp' is not defined"
     ]
    }
   ],
   "source": [
    "lgsp.shape\n"
   ]
  },
  {
   "cell_type": "code",
   "execution_count": null,
   "id": "b60717c4",
   "metadata": {},
   "outputs": [],
   "source": []
  }
 ],
 "metadata": {
  "kernelspec": {
   "display_name": "Python 3",
   "language": "python",
   "name": "python3"
  },
  "language_info": {
   "codemirror_mode": {
    "name": "ipython",
    "version": 3
   },
   "file_extension": ".py",
   "mimetype": "text/x-python",
   "name": "python",
   "nbconvert_exporter": "python",
   "pygments_lexer": "ipython3",
   "version": "3.8.8"
  }
 },
 "nbformat": 4,
 "nbformat_minor": 5
}
